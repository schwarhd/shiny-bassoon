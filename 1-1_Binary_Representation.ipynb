{
 "cells": [
  {
   "cell_type": "markdown",
   "metadata": {},
   "source": [
    "# Prompt"
   ]
  },
  {
   "cell_type": "markdown",
   "metadata": {},
   "source": [
    "Write a function to compute the binary representation of a positive decimal integer\n",
    "The method should return a string\n",
    "\n",
    "Example:\n",
    "    dec_to_bin(6) ==> \"110\"\n",
    "    \n",
    "    dec_to_bin(5) ==> \"101\"\n",
    "    \n",
    "Note: Do not use in-built bin() function"
   ]
  },
  {
   "cell_type": "code",
   "execution_count": null,
   "metadata": {
    "collapsed": true
   },
   "outputs": [],
   "source": [
    "# Prompt\n",
    "def dec_to_bin(number):"
   ]
  },
  {
   "cell_type": "markdown",
   "metadata": {},
   "source": [
    "    The Method\n",
    "Take the number and divide it by two.\n",
    "Continue to divide until the number itself is less than one. \n",
    "The number of divisions + 1 is the length of the string, n.\n",
    "A non-zero remainder in the first division places a 1 at the nth index of the string.\n",
    "A non-zero remainder in the second division places a 1 at the n-1th index of the sting, etc."
   ]
  },
  {
   "cell_type": "markdown",
   "metadata": {},
   "source": [
    "# Notes"
   ]
  },
  {
   "cell_type": "code",
   "execution_count": 3,
   "metadata": {
    "collapsed": false
   },
   "outputs": [
    {
     "name": "stdout",
     "output_type": "stream",
     "text": [
      "0 0b0\n",
      "1 0b1\n",
      "2 0b10\n",
      "3 0b11\n",
      "4 0b100\n",
      "5 0b101\n",
      "6 0b110\n",
      "7 0b111\n",
      "8 0b1000\n",
      "9 0b1001\n"
     ]
    }
   ],
   "source": [
    "# Python has a built in decmial -> binary function, bin()\n",
    "for i in range(10):\n",
    "    print i, bin(i)"
   ]
  },
  {
   "cell_type": "markdown",
   "metadata": {},
   "source": [
    "# My Answer"
   ]
  },
  {
   "cell_type": "code",
   "execution_count": null,
   "metadata": {
    "collapsed": true
   },
   "outputs": [],
   "source": [
    "def dec_to_bin(number):\n",
    "    if number <= 0:\n",
    "        return 0\n",
    "    length = 1\n",
    "    digits = [1]\n",
    "    rev_digits = []\n",
    "    while number > 1:\n",
    "        if number % 2 == 0:\n",
    "            digits.append(0)\n",
    "        elif number % 2 == 1:\n",
    "            rev_digits.append(length)\n",
    "            digits.append(0)\n",
    "        number = number / 2\n",
    "        length += 1\n",
    "    for i in rev_digits:\n",
    "        digits[-i] = 1\n",
    "    bin_num = ''.join(str(x) for x in digits)\n",
    "    return bin_num"
   ]
  },
  {
   "cell_type": "markdown",
   "metadata": {},
   "source": [
    "# Best Solutions"
   ]
  },
  {
   "cell_type": "code",
   "execution_count": 30,
   "metadata": {
    "collapsed": true
   },
   "outputs": [],
   "source": [
    "def dec_to_bin(n):\n",
    "    if n<2: return str(n)\n",
    "    else:\n",
    "#         print 'recursed'\n",
    "        return dec_to_bin(n/2) + dec_to_bin(n%2)"
   ]
  },
  {
   "cell_type": "code",
   "execution_count": 38,
   "metadata": {
    "collapsed": false
   },
   "outputs": [],
   "source": [
    "def dec_to_bin(number):\n",
    "    answer = \"\"\n",
    "    while number != 0:\n",
    "        answer = str(number % 2) + answer\n",
    "        number //= 2\n",
    "    return answer"
   ]
  },
  {
   "cell_type": "code",
   "execution_count": 39,
   "metadata": {
    "collapsed": false
   },
   "outputs": [
    {
     "name": "stdout",
     "output_type": "stream",
     "text": [
      "1010\n"
     ]
    }
   ],
   "source": [
    "print dec_to_bin(10)"
   ]
  }
 ],
 "metadata": {
  "kernelspec": {
   "display_name": "Python 2",
   "language": "python",
   "name": "python2"
  },
  "language_info": {
   "codemirror_mode": {
    "name": "ipython",
    "version": 2
   },
   "file_extension": ".py",
   "mimetype": "text/x-python",
   "name": "python",
   "nbconvert_exporter": "python",
   "pygments_lexer": "ipython2",
   "version": "2.7.13"
  }
 },
 "nbformat": 4,
 "nbformat_minor": 2
}
